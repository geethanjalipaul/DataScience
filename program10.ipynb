{
  "nbformat": 4,
  "nbformat_minor": 0,
  "metadata": {
    "colab": {
      "provenance": [],
      "authorship_tag": "ABX9TyPQTa/ERoEIeOoEnMgs1J4C",
      "include_colab_link": true
    },
    "kernelspec": {
      "name": "python3",
      "display_name": "Python 3"
    },
    "language_info": {
      "name": "python"
    }
  },
  "cells": [
    {
      "cell_type": "markdown",
      "metadata": {
        "id": "view-in-github",
        "colab_type": "text"
      },
      "source": [
        "<a href=\"https://colab.research.google.com/github/geethanjalipaul/DataScience/blob/master/program10.ipynb\" target=\"_parent\"><img src=\"https://colab.research.google.com/assets/colab-badge.svg\" alt=\"Open In Colab\"/></a>"
      ]
    },
    {
      "cell_type": "code",
      "execution_count": null,
      "metadata": {
        "id": "BK-KYIJ7zjdd"
      },
      "outputs": [],
      "source": []
    },
    {
      "cell_type": "code",
      "execution_count": 2,
      "metadata": {
        "colab": {
          "base_uri": "https://localhost:8080/"
        },
        "id": "UNlK7SMXsLDT",
        "outputId": "e6ba774e-4f3d-4a56-dcff-cae36c436987"
      },
      "outputs": [
        {
          "output_type": "stream",
          "name": "stdout",
          "text": [
            "intercept: 2.726518967198299\n",
            "coefficients:\n",
            "prediction:[10.59056288 20.00913801 16.91137367 19.16660194 20.9427758  13.07527261\n",
            " 11.79334998 12.32727044 20.60852325 20.9782953  10.7473639  19.51789691\n",
            "  6.35914557 15.19561811  8.95033363  7.83087748 16.17168871 11.966368\n",
            " 17.05502125 11.30380879 17.04780954  9.7715562  20.8769128  17.24672294\n",
            " 15.13999812 21.95884066 19.17235681 10.08207959 19.36765911 14.85180325\n",
            " 14.37363477  7.58377725  9.92124052 14.71747349  7.15675908 13.61696459\n",
            "  7.53494617 11.65767611 13.41040002 15.22156404 17.12250601 13.56352033\n",
            " 14.25042077 13.66951927 11.9535571   8.80272584 12.11969865 19.25547564\n",
            "  9.12655405  5.0833357  16.269235   18.09818195 12.92625357 16.8854399\n",
            " 17.89809565 12.40076495  4.28397614 11.23263976 16.08030326 13.51198086]\n"
          ]
        }
      ],
      "source": [
        "import pandas as pd\n",
        "dst=pd.read_csv('./Advertising.csv')\n",
        "x=dst.iloc[:,:-1]\n",
        "y=dst.iloc[:,-1]\n",
        "x.head()\n",
        "from sklearn.model_selection import train_test_split\n",
        "x_train,x_test,y_train,y_test=train_test_split(x,y,test_size=0.3,random_state=100)\n",
        "from sklearn.linear_model import LinearRegression\n",
        "mr=LinearRegression()\n",
        "mr.fit(x_train,y_train)\n",
        "print('intercept:',mr.intercept_)\n",
        "print(\"coefficients:\")\n",
        "list(zip(x,mr.coef_))\n",
        "y_pred=mr.predict(x_test)\n",
        "print(\"prediction:{}\".format(y_pred))"
      ]
    }
  ]
}