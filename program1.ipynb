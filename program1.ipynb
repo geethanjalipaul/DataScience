{
  "nbformat": 4,
  "nbformat_minor": 0,
  "metadata": {
    "colab": {
      "provenance": [],
      "authorship_tag": "ABX9TyNr7QP6bO0c5dvcafrjvbb9",
      "include_colab_link": true
    },
    "kernelspec": {
      "name": "python3",
      "display_name": "Python 3"
    },
    "language_info": {
      "name": "python"
    }
  },
  "cells": [
    {
      "cell_type": "markdown",
      "metadata": {
        "id": "view-in-github",
        "colab_type": "text"
      },
      "source": [
        "<a href=\"https://colab.research.google.com/github/geethanjalipaul/DataScience/blob/master/program1.ipynb\" target=\"_parent\"><img src=\"https://colab.research.google.com/assets/colab-badge.svg\" alt=\"Open In Colab\"/></a>"
      ]
    },
    {
      "cell_type": "code",
      "execution_count": null,
      "metadata": {
        "id": "dczrmM-yq829"
      },
      "outputs": [],
      "source": []
    },
    {
      "cell_type": "code",
      "source": [
        "from sklearn.neighbors import KNeighborsClassifier\n",
        "x1=[7,7,3,1]\n",
        "x2=[7,4,4,4]\n",
        "target=['bad','bad','Good','Good']\n",
        "from sklearn import preprocessing\n",
        "le=preprocessing.LabelEncoder()\n",
        "target_encoded=le.fit_transform(target)\n",
        "print(target_encoded)\n",
        "features=zip(x1,x2)\n",
        "features=list(features)\n",
        "features\n",
        "knn = KNeighborsClassifier(n_neighbors=3)\n",
        "knn.fit(features,target)\n",
        "print(knn.predict([[3,7]]))\n"
      ],
      "metadata": {
        "colab": {
          "base_uri": "https://localhost:8080/"
        },
        "id": "UogeLwFvgExS",
        "outputId": "6f8f3548-33a6-4148-92a1-b64374175de8"
      },
      "execution_count": 2,
      "outputs": [
        {
          "output_type": "stream",
          "name": "stdout",
          "text": [
            "[1 1 0 0]\n",
            "['Good']\n"
          ]
        }
      ]
    }
  ]
}